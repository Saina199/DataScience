{
 "cells": [
  {
   "cell_type": "markdown",
   "metadata": {},
   "source": [
    "# My Ranked Watchlist"
   ]
  },
  {
   "cell_type": "markdown",
   "metadata": {},
   "source": [
    "#####  I am a big fan of movies and I have more than 400 movies rated in my IMDB user account.  Also, I have more than 200 movies in my IMDB watchlist and I really like to go through them on an order that I would enjoy the most.  For this reason, I decided to take advantage of other imdb ratings and see if I can rank my watchlist."
   ]
  },
  {
   "cell_type": "markdown",
   "metadata": {},
   "source": [
    "After some searching through internet, I was able to find 19 other IMDB users who have rated a few hundred movies just like mine.  So, I decided to propose a metric to quantify the similarity between my movie taste and other 19 IMDB users."
   ]
  },
  {
   "cell_type": "code",
   "execution_count": 25,
   "metadata": {
    "collapsed": false
   },
   "outputs": [
    {
     "name": "stdout",
     "output_type": "stream",
     "text": [
      "<class 'pandas.core.frame.DataFrame'>\n",
      "Int64Index: 9658 entries, 0 to 12251\n",
      "Data columns (total 7 columns):\n",
      "Title         9658 non-null object\n",
      "TitleType     9658 non-null object\n",
      "Directors     9640 non-null object\n",
      "IMDbRating    9601 non-null float64\n",
      "Runtime       9138 non-null float64\n",
      "Year          9658 non-null int64\n",
      "Genres        9372 non-null object\n",
      "dtypes: float64(2), int64(1), object(4)\n",
      "memory usage: 603.6+ KB\n"
     ]
    }
   ],
   "source": [
    "#%reset\n",
    "%matplotlib inline\n",
    "import glob\n",
    "import os\n",
    "import pandas as pd\n",
    "import numpy as np\n",
    "import matplotlib.pyplot as plt\n",
    "import seaborn as sns\n",
    "\n",
    "path = r'C:\\Users\\Saina\\Desktop\\1-Insight\\2-myPractice\\4-myimdb\\UserRatings'                     \n",
    "files = glob.glob(os.path.join(path, \"*.csv\"))     \n",
    "\n",
    "df1 = pd.read_csv('ratingsSaina.csv')\n",
    "df1 = df1.drop(df1.ix[:,:5],axis=1) ## drop the first 5 columns\n",
    "df1 = df1.drop(df1.ix[:,3:4],axis=1) ## drop UserRating to let the concatenation not include same movies\n",
    "df1 = df1.drop(df1.ix[:,-3:],axis=1)  ## drop last two columns\n",
    "df = df1\n",
    "\n",
    "for f in files:\n",
    "    dat1 = pd.read_csv(f)\n",
    "    dat1 = dat1.drop(dat1.ix[:,:5],axis=1)\n",
    "    dat1 = dat1.drop(dat1.ix[:,3:4],axis=1)\n",
    "    dat = dat1.drop(dat1.ix[:,-3:],axis=1)\n",
    "    df = pd.concat([dat,df]).drop_duplicates().reset_index(drop=True)\n",
    "df = df[(df.TitleType=='Feature Film')|(df.TitleType=='TV Movie')]  ### disregarding short films or TV shows\n",
    "df.info()"
   ]
  },
  {
   "cell_type": "markdown",
   "metadata": {},
   "source": [
    "#### Preparing all movies ratings..."
   ]
  },
  {
   "cell_type": "code",
   "execution_count": 28,
   "metadata": {
    "collapsed": false
   },
   "outputs": [
    {
     "name": "stdout",
     "output_type": "stream",
     "text": [
      "<class 'pandas.core.frame.DataFrame'>\n",
      "Int64Index: 9658 entries, 0 to 9657\n",
      "Data columns (total 27 columns):\n",
      "Title            9658 non-null object\n",
      "TitleType        9658 non-null object\n",
      "Directors        9640 non-null object\n",
      "IMDbRating       9601 non-null float64\n",
      "Runtime          9138 non-null float64\n",
      "Year             9658 non-null int64\n",
      "Genres           9372 non-null object\n",
      "MyRating         346 non-null float64\n",
      "AlexRating       762 non-null float64\n",
      "BabakRating      533 non-null float64\n",
      "DavidRating      56 non-null float64\n",
      "DibRating        866 non-null float64\n",
      "DrRating         492 non-null float64\n",
      "ElhamRating      116 non-null float64\n",
      "EllaRating       614 non-null float64\n",
      "GlenRating       1608 non-null float64\n",
      "GoergRating      381 non-null float64\n",
      "JuliRating       292 non-null float64\n",
      "LiliRating       88 non-null float64\n",
      "LuisRating       545 non-null float64\n",
      "MehrdadRating    139 non-null float64\n",
      "MerviRating      137 non-null float64\n",
      "NonaRating       262 non-null float64\n",
      "NutRating        1445 non-null float64\n",
      "OmidRating       7451 non-null float64\n",
      "RatulRating      1147 non-null float64\n",
      "RDRating         2211 non-null float64\n",
      "dtypes: float64(22), int64(1), object(4)\n",
      "memory usage: 2.1+ MB\n"
     ]
    }
   ],
   "source": [
    "### adding the rating of 20 users the to film directory\n",
    "df12 = pd.read_csv('ratingsSaina.csv')\n",
    "df2 = pd.concat([df1,df12.ix[:,8:9]],axis=1)\n",
    "df2.head()\n",
    "data = df.merge(df2,on=['Title','TitleType','Directors','IMDbRating','Runtime','Year','Genres'],how='left')\n",
    "\n",
    "for f in files:\n",
    "    dt1 = pd.read_csv(f)\n",
    "    dt1 = dt1.drop(dt1.ix[:,:5],axis=1)\n",
    "    dtt = dt1.drop(dt1.ix[:,-3:],axis=1)\n",
    "    data = data.merge(dtt,on=['Title','TitleType','Directors','IMDbRating','Runtime','Year','Genres'],how='left')\n",
    "data.info()"
   ]
  },
  {
   "cell_type": "markdown",
   "metadata": {},
   "source": [
    "### Feature Engineering"
   ]
  },
  {
   "cell_type": "markdown",
   "metadata": {},
   "source": [
    "#### I consider an interesting metric to normalize my features:\n",
    "I normalize my own rating relative to the IMDB rating of the movie and bringing it between 0 and 1, using min and max "
   ]
  },
  {
   "cell_type": "code",
   "execution_count": 31,
   "metadata": {
    "collapsed": false
   },
   "outputs": [
    {
     "data": {
      "text/plain": [
       "array([[<matplotlib.axes._subplots.AxesSubplot object at 0x000000000D7FFDD8>,\n",
       "        <matplotlib.axes._subplots.AxesSubplot object at 0x0000000011874630>,\n",
       "        <matplotlib.axes._subplots.AxesSubplot object at 0x0000000011945630>,\n",
       "        <matplotlib.axes._subplots.AxesSubplot object at 0x00000000119E3208>],\n",
       "       [<matplotlib.axes._subplots.AxesSubplot object at 0x0000000011AEA0F0>,\n",
       "        <matplotlib.axes._subplots.AxesSubplot object at 0x000000001054E438>,\n",
       "        <matplotlib.axes._subplots.AxesSubplot object at 0x0000000011BF6D68>,\n",
       "        <matplotlib.axes._subplots.AxesSubplot object at 0x0000000011D02710>],\n",
       "       [<matplotlib.axes._subplots.AxesSubplot object at 0x0000000011DE6D30>,\n",
       "        <matplotlib.axes._subplots.AxesSubplot object at 0x0000000011EAB7B8>,\n",
       "        <matplotlib.axes._subplots.AxesSubplot object at 0x0000000011F957F0>,\n",
       "        <matplotlib.axes._subplots.AxesSubplot object at 0x000000001209E278>],\n",
       "       [<matplotlib.axes._subplots.AxesSubplot object at 0x000000001209EFD0>,\n",
       "        <matplotlib.axes._subplots.AxesSubplot object at 0x0000000012206AC8>,\n",
       "        <matplotlib.axes._subplots.AxesSubplot object at 0x0000000012312470>,\n",
       "        <matplotlib.axes._subplots.AxesSubplot object at 0x0000000012420668>],\n",
       "       [<matplotlib.axes._subplots.AxesSubplot object at 0x000000001251CFD0>,\n",
       "        <matplotlib.axes._subplots.AxesSubplot object at 0x00000000125C7C18>,\n",
       "        <matplotlib.axes._subplots.AxesSubplot object at 0x00000000126D77F0>,\n",
       "        <matplotlib.axes._subplots.AxesSubplot object at 0x00000000127F2198>]], dtype=object)"
      ]
     },
     "execution_count": 31,
     "metadata": {},
     "output_type": "execute_result"
    },
    {
     "data": {
      "image/png": "[encoded data removed]",
      "text/plain": [
       "<matplotlib.figure.Figure at 0xd12ac18>"
      ]
     },
     "metadata": {},
     "output_type": "display_data"
    }
   ],
   "source": [
    "### normalizing every user rating relative to average rating and his own rating habit\n",
    "new = data.iloc[:,7:].sub(data['IMDbRating'],axis='rows') ## subtracting IMDB rating from my rating\n",
    "relative = (new - new.min())/(new.max()- new.min())\n",
    "relative.hist()"
   ]
  },
  {
   "cell_type": "markdown",
   "metadata": {},
   "source": [
    "### Introducing two features to quantify the similarity between me and other users:\n",
    "#### i) percentage of movies that we have in common (we have tried watching similar movies)\n",
    "#### ii) the average relative rating that we rated the movies (1 quantity)"
   ]
  },
  {
   "cell_type": "code",
   "execution_count": 32,
   "metadata": {
    "collapsed": false
   },
   "outputs": [
    {
     "name": "stdout",
     "output_type": "stream",
     "text": [
      "[0.27456647398843931, 0.22254335260115607, 0.23214285714285715, 0.2947976878612717, 0.095375722543352595, 0.2413793103448276, 0.083815028901734104, 0.30057803468208094, 0.06358381502890173, 0.054982817869415807, 0.14772727272727273, 0.20520231213872833, 0.36690647482014388, 0.094890510948905105, 0.27099236641221375, 0.37572254335260113, 0.79190751445086704, 0.19942196531791909, 0.39595375722543352]\n",
      "[0.94235960313366074, 0.92258258219891265, 0.87923106877546131, 0.95727564797675913, 0.86166646949800851, 0.8252924803693058, 0.8952829723052087, 0.96199052949720532, 0.91824022939677163, 0.92082151201602125, 0.77901062083745909, 0.78346209536152955, 0.86884048011728066, 0.95919762935947117, 0.70486431047343245, 0.83786484543493889, 0.97031946541225522, 0.89363947714211811, 0.98045978579712112]\n"
     ]
    }
   ],
   "source": [
    "### metric 1 & 2\n",
    "score=[] ## percentage of movies that we both rated\n",
    "rate = [] ## the rating that we used\n",
    "for ic in range(19):\n",
    "    common = relative.iloc[:,[0,ic+1]].notnull().all(axis=1)\n",
    "    val = sum(common)/(1.0*min(relative.iloc[:,0].count(),relative.iloc[:,ic+1].count()))\n",
    "    rateM = 1-abs(relative.iloc[:,[0,ic+1]][common].mean()[0]-relative.iloc[:,[0,ic+1]][common].mean()[1])\n",
    "    score.append(val)\n",
    "    rate.append(rateM)\n",
    "print score\n",
    "print rate"
   ]
  },
  {
   "cell_type": "markdown",
   "metadata": {},
   "source": [
    "### Let's represent every movie by only the first genres...\n",
    "### i) since \"drama\" is the most popular movie genres, I use it as a metric to measure similarity. Besically, the relative median rating every user gives to a drama movie is considered as a measure of similarity, here!\n",
    "### ii) also, the fraction of dramas being rated by every user is another measure of similarity "
   ]
  },
  {
   "cell_type": "code",
   "execution_count": 36,
   "metadata": {
    "collapsed": false
   },
   "outputs": [
    {
     "name": "stdout",
     "output_type": "stream",
     "text": [
      "[0.87507775400907262, 0.62225487750653408, 0.56513212221304698, 0.7751445086705202, 0.93838996193430146, 0.84188758222045046, 0.60765189885334481, 0.72549104190032498, 0.60867355453400696, 0.66963629501618893, 0.70474251182343672, 0.6344964734581322, 0.99923067326485637, 0.69404244546643601, 0.8703393195958169, 0.75031501890113406, 0.76642818958537184, 0.64320847045068563, 0.68704689897857008]\n",
      "[0.9741281057670389, 0.86829808165273, 0.9781931464174455, 0.9331218382920347, 0.8727079143499349, 0.8805639157294473, 0.7965816283573294, 0.9979973297730307, 0.9676401869158879, 0.8729973297730308, 0.7513666020102275, 0.7653965971722982, 0.9051401869158878, 0.9892865283793026, 0.6988901869158878, 0.8948598130841121, 0.8841256941622646, 0.8486466804223813, 0.9651401869158879]\n"
     ]
    }
   ],
   "source": [
    "### metric 3,4\n",
    "### Reducing the Genres to the first entry\n",
    "gn = data['Genres'].str.split(',').str[0]\n",
    "drama = (data.MyRating[gn=='drama'].count()/(1.0*data.MyRating.count()))\n",
    "dramaM = relative.ix[:,0][gn=='drama'].median()\n",
    "\n",
    "propDrama=[]\n",
    "dramaMean = []\n",
    "for ic in range(19):\n",
    "    val = relative.ix[:,ic+1][gn=='drama'].count()/(1.0*relative.ix[:,ic+1].count())\n",
    "    prop = 1-abs(drama-val)\n",
    "    propDrama.append(prop)\n",
    "    \n",
    "    valM = 1-abs(dramaM-relative.ix[:,ic+1][gn=='drama'].median())\n",
    "    dramaMean.append(valM)\n",
    "    \n",
    "print propDrama\n",
    "print dramaMean"
   ]
  },
  {
   "cell_type": "markdown",
   "metadata": {},
   "source": [
    "### another metric is the number of movies that I would like to watch, and other users have already watched them!"
   ]
  },
  {
   "cell_type": "code",
   "execution_count": 37,
   "metadata": {
    "collapsed": false
   },
   "outputs": [
    {
     "name": "stdout",
     "output_type": "stream",
     "text": [
      "180 232\n",
      "[0.37222222222222223, 0.10000000000000001, 0.0055555555555555558, 0.32777777777777778, 0.26111111111111113, 0.077777777777777779, 0.066666666666666666, 0.36666666666666664, 0.077777777777777779, 0.072222222222222215, 0.011111111111111112, 0.03888888888888889, 0.050000000000000003, 0.027777777777777776, 0.072222222222222215, 0.43888888888888888, 0.91111111111111109, 0.14444444444444443, 0.34444444444444444]\n"
     ]
    }
   ],
   "source": [
    "###watchlist\n",
    "watchList = pd.read_csv('MyWatchlist.csv')\n",
    "watchList = watchList.ix[:,5:12]\n",
    "Movies = pd.merge(watchList,data, on=['Title','TitleType','Directors','IMDbRating',\n",
    "                                      'Runtime','Year','Genres'], how='inner')\n",
    "print len(Movies), len(watchList)\n",
    "\n",
    "watch=[]\n",
    "for ic in range(19):\n",
    "    val = Movies.ix[:,ic+8].count()/(1.0*min(len(data.ix[:,ic+8]),len(Movies)))\n",
    "    watch.append(val)\n",
    "    \n",
    "print watch"
   ]
  },
  {
   "cell_type": "markdown",
   "metadata": {},
   "source": [
    "### Constructing the feature matrix with the five features developed so far...\n"
   ]
  },
  {
   "cell_type": "code",
   "execution_count": 39,
   "metadata": {
    "collapsed": false
   },
   "outputs": [],
   "source": [
    "### constructing the similarity matrix\n",
    "simMat = np.matrix([score,rate,propDrama,dramaMean,watch])"
   ]
  },
  {
   "cell_type": "code",
   "execution_count": 40,
   "metadata": {
    "collapsed": false
   },
   "outputs": [
    {
     "name": "stdout",
     "output_type": "stream",
     "text": [
      "[[ 0.75055505  0.64059767  0.64856836  0.71864957  0.70170357  0.6677707\n",
      "   0.60279086  0.73110236  0.65727748  0.64291345  0.58138079  0.57373355\n",
      "   0.73617183  0.69140707  0.60356021  0.6927561   0.86808424  0.63137044\n",
      "   0.72667073]]\n"
     ]
    }
   ],
   "source": [
    "print np.sqrt(np.square(simMat).mean(0))"
   ]
  },
  {
   "cell_type": "markdown",
   "metadata": {},
   "source": [
    "#### Omid's taste with 0.87 similarity factor is the closest to mine"
   ]
  },
  {
   "cell_type": "code",
   "execution_count": 41,
   "metadata": {
    "collapsed": false
   },
   "outputs": [
    {
     "name": "stdout",
     "output_type": "stream",
     "text": [
      "[[ 0.79190751]\n",
      " [ 0.97031947]\n",
      " [ 0.76642819]\n",
      " [ 0.88412569]\n",
      " [ 0.91111111]]\n"
     ]
    }
   ],
   "source": [
    "##Omid's taste is closest to mine.  Lets check how many of my watchlist he has rated already\n",
    "print simMat[:,-3]"
   ]
  },
  {
   "cell_type": "markdown",
   "metadata": {},
   "source": [
    "### Conslusion: These are the first 20 movies that I should watch from my watchlist, in the order represented below!"
   ]
  },
  {
   "cell_type": "code",
   "execution_count": 43,
   "metadata": {
    "collapsed": false
   },
   "outputs": [
    {
     "data": {
      "text/html": [
       "<div>\n",
       "<table border=\"1\" class=\"dataframe\">\n",
       "  <thead>\n",
       "    <tr style=\"text-align: right;\">\n",
       "      <th></th>\n",
       "      <th>index</th>\n",
       "      <th>Title</th>\n",
       "      <th>Directors</th>\n",
       "      <th>IMDbRating</th>\n",
       "      <th>Year</th>\n",
       "      <th>OmidRating</th>\n",
       "    </tr>\n",
       "  </thead>\n",
       "  <tbody>\n",
       "    <tr>\n",
       "      <th>0</th>\n",
       "      <td>179</td>\n",
       "      <td>The Salesman</td>\n",
       "      <td>Asghar Farhadi</td>\n",
       "      <td>9.3</td>\n",
       "      <td>2016</td>\n",
       "      <td>10.0</td>\n",
       "    </tr>\n",
       "    <tr>\n",
       "      <th>1</th>\n",
       "      <td>163</td>\n",
       "      <td>Once Upon a Time in America</td>\n",
       "      <td>Sergio Leone</td>\n",
       "      <td>8.4</td>\n",
       "      <td>1984</td>\n",
       "      <td>10.0</td>\n",
       "    </tr>\n",
       "    <tr>\n",
       "      <th>2</th>\n",
       "      <td>77</td>\n",
       "      <td>Amores perros</td>\n",
       "      <td>Alejandro González Iñárritu</td>\n",
       "      <td>8.1</td>\n",
       "      <td>2000</td>\n",
       "      <td>10.0</td>\n",
       "    </tr>\n",
       "    <tr>\n",
       "      <th>3</th>\n",
       "      <td>105</td>\n",
       "      <td>A Very Long Engagement</td>\n",
       "      <td>Jean-Pierre Jeunet</td>\n",
       "      <td>7.7</td>\n",
       "      <td>2004</td>\n",
       "      <td>10.0</td>\n",
       "    </tr>\n",
       "    <tr>\n",
       "      <th>4</th>\n",
       "      <td>123</td>\n",
       "      <td>Like Someone in Love</td>\n",
       "      <td>Abbas Kiarostami</td>\n",
       "      <td>6.9</td>\n",
       "      <td>2012</td>\n",
       "      <td>10.0</td>\n",
       "    </tr>\n",
       "    <tr>\n",
       "      <th>5</th>\n",
       "      <td>28</td>\n",
       "      <td>Dances with Wolves</td>\n",
       "      <td>Kevin Costner</td>\n",
       "      <td>8.0</td>\n",
       "      <td>1990</td>\n",
       "      <td>10.0</td>\n",
       "    </tr>\n",
       "    <tr>\n",
       "      <th>6</th>\n",
       "      <td>54</td>\n",
       "      <td>The Legend of 1900</td>\n",
       "      <td>Giuseppe Tornatore</td>\n",
       "      <td>8.1</td>\n",
       "      <td>1998</td>\n",
       "      <td>10.0</td>\n",
       "    </tr>\n",
       "    <tr>\n",
       "      <th>7</th>\n",
       "      <td>147</td>\n",
       "      <td>Bicycle Thieves</td>\n",
       "      <td>Vittorio De Sica</td>\n",
       "      <td>8.3</td>\n",
       "      <td>1948</td>\n",
       "      <td>10.0</td>\n",
       "    </tr>\n",
       "    <tr>\n",
       "      <th>8</th>\n",
       "      <td>156</td>\n",
       "      <td>The Good, the Bad and the Ugly</td>\n",
       "      <td>Sergio Leone</td>\n",
       "      <td>8.9</td>\n",
       "      <td>1966</td>\n",
       "      <td>10.0</td>\n",
       "    </tr>\n",
       "    <tr>\n",
       "      <th>9</th>\n",
       "      <td>52</td>\n",
       "      <td>Modern Times</td>\n",
       "      <td>Charlie Chaplin</td>\n",
       "      <td>8.6</td>\n",
       "      <td>1936</td>\n",
       "      <td>10.0</td>\n",
       "    </tr>\n",
       "    <tr>\n",
       "      <th>10</th>\n",
       "      <td>173</td>\n",
       "      <td>Inception</td>\n",
       "      <td>Christopher Nolan</td>\n",
       "      <td>8.8</td>\n",
       "      <td>2010</td>\n",
       "      <td>10.0</td>\n",
       "    </tr>\n",
       "    <tr>\n",
       "      <th>11</th>\n",
       "      <td>129</td>\n",
       "      <td>Before Sunrise</td>\n",
       "      <td>Richard Linklater</td>\n",
       "      <td>8.1</td>\n",
       "      <td>1995</td>\n",
       "      <td>9.0</td>\n",
       "    </tr>\n",
       "    <tr>\n",
       "      <th>12</th>\n",
       "      <td>144</td>\n",
       "      <td>127 Hours</td>\n",
       "      <td>Danny Boyle</td>\n",
       "      <td>7.6</td>\n",
       "      <td>2010</td>\n",
       "      <td>9.0</td>\n",
       "    </tr>\n",
       "    <tr>\n",
       "      <th>13</th>\n",
       "      <td>96</td>\n",
       "      <td>Tootsie</td>\n",
       "      <td>Sydney Pollack</td>\n",
       "      <td>7.4</td>\n",
       "      <td>1982</td>\n",
       "      <td>9.0</td>\n",
       "    </tr>\n",
       "    <tr>\n",
       "      <th>14</th>\n",
       "      <td>113</td>\n",
       "      <td>Following</td>\n",
       "      <td>Christopher Nolan</td>\n",
       "      <td>7.6</td>\n",
       "      <td>1998</td>\n",
       "      <td>9.0</td>\n",
       "    </tr>\n",
       "    <tr>\n",
       "      <th>15</th>\n",
       "      <td>32</td>\n",
       "      <td>The World's Fastest Indian</td>\n",
       "      <td>Roger Donaldson</td>\n",
       "      <td>7.9</td>\n",
       "      <td>2005</td>\n",
       "      <td>9.0</td>\n",
       "    </tr>\n",
       "    <tr>\n",
       "      <th>16</th>\n",
       "      <td>10</td>\n",
       "      <td>Full Metal Jacket</td>\n",
       "      <td>Stanley Kubrick</td>\n",
       "      <td>8.3</td>\n",
       "      <td>1987</td>\n",
       "      <td>9.0</td>\n",
       "    </tr>\n",
       "    <tr>\n",
       "      <th>17</th>\n",
       "      <td>93</td>\n",
       "      <td>Vertigo</td>\n",
       "      <td>Alfred Hitchcock</td>\n",
       "      <td>8.4</td>\n",
       "      <td>1958</td>\n",
       "      <td>9.0</td>\n",
       "    </tr>\n",
       "    <tr>\n",
       "      <th>18</th>\n",
       "      <td>172</td>\n",
       "      <td>Se7en</td>\n",
       "      <td>David Fincher</td>\n",
       "      <td>8.6</td>\n",
       "      <td>1995</td>\n",
       "      <td>9.0</td>\n",
       "    </tr>\n",
       "    <tr>\n",
       "      <th>19</th>\n",
       "      <td>102</td>\n",
       "      <td>Breathless</td>\n",
       "      <td>Jean-Luc Godard</td>\n",
       "      <td>8.0</td>\n",
       "      <td>1960</td>\n",
       "      <td>9.0</td>\n",
       "    </tr>\n",
       "  </tbody>\n",
       "</table>\n",
       "</div>"
      ],
      "text/plain": [
       "    index                           Title                    Directors  \\\n",
       "0     179                    The Salesman               Asghar Farhadi   \n",
       "1     163     Once Upon a Time in America                 Sergio Leone   \n",
       "2      77                   Amores perros  Alejandro González Iñárritu   \n",
       "3     105          A Very Long Engagement           Jean-Pierre Jeunet   \n",
       "4     123            Like Someone in Love             Abbas Kiarostami   \n",
       "5      28              Dances with Wolves                Kevin Costner   \n",
       "6      54              The Legend of 1900           Giuseppe Tornatore   \n",
       "7     147                 Bicycle Thieves             Vittorio De Sica   \n",
       "8     156  The Good, the Bad and the Ugly                 Sergio Leone   \n",
       "9      52                    Modern Times              Charlie Chaplin   \n",
       "10    173                       Inception            Christopher Nolan   \n",
       "11    129                  Before Sunrise            Richard Linklater   \n",
       "12    144                       127 Hours                  Danny Boyle   \n",
       "13     96                         Tootsie               Sydney Pollack   \n",
       "14    113                       Following            Christopher Nolan   \n",
       "15     32      The World's Fastest Indian              Roger Donaldson   \n",
       "16     10               Full Metal Jacket              Stanley Kubrick   \n",
       "17     93                         Vertigo             Alfred Hitchcock   \n",
       "18    172                           Se7en                David Fincher   \n",
       "19    102                      Breathless              Jean-Luc Godard   \n",
       "\n",
       "    IMDbRating  Year  OmidRating  \n",
       "0          9.3  2016        10.0  \n",
       "1          8.4  1984        10.0  \n",
       "2          8.1  2000        10.0  \n",
       "3          7.7  2004        10.0  \n",
       "4          6.9  2012        10.0  \n",
       "5          8.0  1990        10.0  \n",
       "6          8.1  1998        10.0  \n",
       "7          8.3  1948        10.0  \n",
       "8          8.9  1966        10.0  \n",
       "9          8.6  1936        10.0  \n",
       "10         8.8  2010        10.0  \n",
       "11         8.1  1995         9.0  \n",
       "12         7.6  2010         9.0  \n",
       "13         7.4  1982         9.0  \n",
       "14         7.6  1998         9.0  \n",
       "15         7.9  2005         9.0  \n",
       "16         8.3  1987         9.0  \n",
       "17         8.4  1958         9.0  \n",
       "18         8.6  1995         9.0  \n",
       "19         8.0  1960         9.0  "
      ]
     },
     "execution_count": 43,
     "metadata": {},
     "output_type": "execute_result"
    }
   ],
   "source": [
    "myRank = Movies.ix[:,[0,2,3,5,16+8]][Movies.ix[:,16+8].notnull()]\n",
    "myMovies = myRank.sort_values(by=['OmidRating'],ascending=False)\n",
    "myMovies = myMovies.reset_index()\n",
    "myMovies.iloc[:20,:]"
   ]
  }
 ],
 "metadata": {
  "kernelspec": {
   "display_name": "Python 2",
   "language": "python",
   "name": "python2"
  },
  "language_info": {
   "codemirror_mode": {
    "name": "ipython",
    "version": 2
   },
   "file_extension": ".py",
   "mimetype": "text/x-python",
   "name": "python",
   "nbconvert_exporter": "python",
   "pygments_lexer": "ipython2",
   "version": "2.7.11"
  }
 },
 "nbformat": 4,
 "nbformat_minor": 0
}

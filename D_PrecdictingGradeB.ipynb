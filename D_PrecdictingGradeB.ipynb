{
 "cells": [
  {
   "cell_type": "code",
   "execution_count": 1,
   "metadata": {
    "collapsed": false
   },
   "outputs": [
    {
     "name": "stdout",
     "output_type": "stream",
     "text": [
      "set(['A', 'C', 'B', 'D', 'F'])\n",
      "794\n"
     ]
    }
   ],
   "source": [
    "%matplotlib inline\n",
    "import matplotlib.pyplot as plt\n",
    "import seaborn as sns\n",
    "import pandas as pd\n",
    "import numpy as np\n",
    "import math as mt\n",
    "\n",
    "#print pd.show_versions()\n",
    "dat1 = pd.read_excel('./grades/314 (2005).xls',skiprows=2)\n",
    "dat2 = pd.read_excel('./grades/314 (2006).xls',skiprows=2)\n",
    "dat3 = pd.read_excel('./grades/314 (2007).xls',skiprows=2)\n",
    "dat4 = pd.read_excel('./grades/314 (2008).xls',skiprows=2)\n",
    "dat5 = pd.read_excel('./grades/314 (2009).xls',skiprows=1)\n",
    "dat6 = pd.read_excel('./grades/314 (2010).xls',skiprows=1)\n",
    "dat7 = pd.read_excel('./grades/314 (2011).xls',skiprows=1)\n",
    "dat8 = pd.read_excel('./grades/314 (2012).xls',skiprows=1)\n",
    "dat9 = pd.read_excel('./grades/314 (2013).xlsx',skiprows=1)\n",
    "\n",
    "num = len(dat1)+len(dat2)+len(dat3)+len(dat4)+len(dat5)+len(dat6)+len(dat7)+len(dat8)+len(dat9)\n",
    "values = pd.DataFrame(np.nan, index=range(0,num), columns= ['Aa','Mt','Fe'])\n",
    "values = pd.concat([dat1.ix[:,'Aa':],dat2.ix[:,'Aa':],\n",
    "                    dat3.ix[:,'Aa':],dat4.ix[:,'Aa':],dat5.ix[:,'Aa':],\n",
    "                      dat6.ix[:,'Aa':],dat7.ix[:,'Aa':],dat8.ix[:,'Aa':],\n",
    "                    dat9.ix[:,'Aa':]])\n",
    "values = values.reset_index(drop=True)\n",
    "\n",
    "labels = pd.DataFrame(np.nan, index=range(0,len(values)),columns=['lables'])\n",
    "labels = pd.concat([dat1['Grade'],dat2['Grade'],dat3['Grade'],dat4['Grade'],dat5['Grade'],dat6['Grade'],\n",
    "                    dat7['Grade'],dat8['Grade'],dat9['Grade']])\n",
    "\n",
    "labels[(labels=='A+')|(labels=='A-')|(labels=='A')] = 'A'\n",
    "labels[(labels=='B+')|(labels=='B')] = 'B'\n",
    "labels[(labels=='C+')|(labels=='C')|(labels=='B-')] = 'C'\n",
    "labels[(labels=='D+')|(labels=='D')|(labels=='C-')] = 'D'\n",
    "labels[(labels=='F')|(labels=='D-')] = 'F'\n",
    "\n",
    "print set(labels)\n",
    "print labels.size"
   ]
  },
  {
   "cell_type": "code",
   "execution_count": 2,
   "metadata": {
    "collapsed": false
   },
   "outputs": [],
   "source": [
    "prop1 = pd.DataFrame(np.nan, index=range(0,0), columns=['prop'])\n",
    "prop1['prop'] = labels[:len(dat1)]\n",
    "#prop1[prop1['prop']=='D'] = prop1[prop1['prop']=='D'].apply(pd.value_counts)/(len(dat1)*1.0)\n",
    "prop1[prop1['prop']=='F'] = len(prop1[prop1['prop']=='F'])/(len(dat1)*1.0)\n",
    "prop1[prop1['prop']=='D'] = len(prop1[prop1['prop']=='D'])/(len(dat1)*1.0)\n",
    "prop1[prop1['prop']=='C'] = len(prop1[prop1['prop']=='C'])/(len(dat1)*1.0)\n",
    "prop1[prop1['prop']=='B'] = len(prop1[prop1['prop']=='B'])/(len(dat1)*1.0)\n",
    "prop1[prop1['prop']=='A'] = len(prop1[prop1['prop']=='A'])/(len(dat1)*1.0)\n",
    "\n",
    "prop2 = pd.DataFrame(np.nan, index=range(0,0), columns=['prop'])\n",
    "prop2['prop'] = labels[len(dat1):len(dat1)+len(dat2)]\n",
    "prop2[prop2['prop']=='F'] = len(prop2[prop2['prop']=='F'])/(len(dat2)*1.0)\n",
    "prop2[prop2['prop']=='D'] = len(prop2[prop2['prop']=='D'])/(len(dat2)*1.0)\n",
    "prop2[prop2['prop']=='C'] = len(prop2[prop2['prop']=='C'])/(len(dat2)*1.0)\n",
    "prop2[prop2['prop']=='B'] = len(prop2[prop2['prop']=='B'])/(len(dat2)*1.0)\n",
    "prop2[prop2['prop']=='A'] = len(prop2[prop2['prop']=='A'])/(len(dat2)*1.0)\n",
    "\n",
    "prop3 = pd.DataFrame(np.nan, index=range(0,0), columns=['prop'])\n",
    "prop3['prop'] = labels[len(dat2):len(dat2)+len(dat3)]\n",
    "prop3[prop3['prop']=='F'] = len(prop3[prop3['prop']=='F'])/(len(dat3)*1.0)\n",
    "prop3[prop3['prop']=='D'] = len(prop3[prop3['prop']=='D'])/(len(dat3)*1.0)\n",
    "prop3[prop3['prop']=='C'] = len(prop3[prop3['prop']=='C'])/(len(dat3)*1.0)\n",
    "prop3[prop3['prop']=='B'] = len(prop3[prop3['prop']=='B'])/(len(dat3)*1.0)\n",
    "prop3[prop3['prop']=='A'] = len(prop3[prop3['prop']=='A'])/(len(dat3)*1.0)\n",
    "\n",
    "prop4 = pd.DataFrame(np.nan, index=range(0,0), columns=['prop'])\n",
    "prop4['prop'] = labels[len(dat3):len(dat3)+len(dat4)]\n",
    "prop4[prop4['prop']=='F'] = len(prop4[prop4['prop']=='F'])/(len(dat4)*1.0)\n",
    "prop4[prop4['prop']=='D'] = len(prop4[prop4['prop']=='D'])/(len(dat4)*1.0)\n",
    "prop4[prop4['prop']=='C'] = len(prop4[prop4['prop']=='C'])/(len(dat4)*1.0)\n",
    "prop4[prop4['prop']=='B'] = len(prop4[prop4['prop']=='B'])/(len(dat4)*1.0)\n",
    "prop4[prop4['prop']=='A'] = len(prop4[prop4['prop']=='A'])/(len(dat4)*1.0)\n",
    "\n",
    "prop5 = pd.DataFrame(np.nan, index=range(0,0), columns=['prop'])\n",
    "prop5['prop'] = labels[len(dat4):len(dat4)+len(dat5)]\n",
    "prop5[prop5['prop']=='F'] = len(prop5[prop5['prop']=='F'])/(len(dat5)*1.0)\n",
    "prop5[prop5['prop']=='D'] = len(prop5[prop5['prop']=='D'])/(len(dat5)*1.0)\n",
    "prop5[prop5['prop']=='C'] = len(prop5[prop5['prop']=='C'])/(len(dat5)*1.0)\n",
    "prop5[prop5['prop']=='B'] = len(prop5[prop5['prop']=='B'])/(len(dat5)*1.0)\n",
    "prop5[prop5['prop']=='A'] = len(prop5[prop5['prop']=='A'])/(len(dat5)*1.0)\n",
    "\n",
    "prop6 = pd.DataFrame(np.nan, index=range(0,0), columns=['prop'])\n",
    "prop6['prop'] = labels[len(dat5):len(dat5)+len(dat6)]\n",
    "prop6[prop6['prop']=='F'] = len(prop6[prop6['prop']=='F'])/(len(dat6)*1.0)\n",
    "prop6[prop6['prop']=='D'] = len(prop6[prop6['prop']=='D'])/(len(dat6)*1.0)\n",
    "prop6[prop6['prop']=='C'] = len(prop6[prop6['prop']=='C'])/(len(dat6)*1.0)\n",
    "prop6[prop6['prop']=='B'] = len(prop6[prop6['prop']=='B'])/(len(dat6)*1.0)\n",
    "prop6[prop6['prop']=='A'] = len(prop6[prop6['prop']=='A'])/(len(dat6)*1.0)\n",
    "\n",
    "prop7 = pd.DataFrame(np.nan, index=range(0,0), columns=['prop'])\n",
    "prop7['prop'] = labels[len(dat6):len(dat6)+len(dat7)]\n",
    "prop7[prop7['prop']=='F'] = len(prop7[prop7['prop']=='F'])/(len(dat7)*1.0)\n",
    "prop7[prop7['prop']=='D'] = len(prop7[prop7['prop']=='D'])/(len(dat7)*1.0)\n",
    "prop7[prop7['prop']=='C'] = len(prop7[prop7['prop']=='C'])/(len(dat7)*1.0)\n",
    "prop7[prop7['prop']=='B'] = len(prop7[prop7['prop']=='B'])/(len(dat7)*1.0)\n",
    "prop7[prop7['prop']=='A'] = len(prop7[prop7['prop']=='A'])/(len(dat7)*1.0)\n",
    "\n",
    "prop8 = pd.DataFrame(np.nan, index=range(0,0), columns=['prop'])\n",
    "prop8['prop'] = labels[len(dat7):len(dat7)+len(dat8)]\n",
    "prop8[prop8['prop']=='F'] = len(prop8[prop8['prop']=='F'])/(len(dat8)*1.0)\n",
    "prop8[prop8['prop']=='D'] = len(prop8[prop8['prop']=='D'])/(len(dat8)*1.0)\n",
    "prop8[prop8['prop']=='C'] = len(prop8[prop8['prop']=='C'])/(len(dat8)*1.0)\n",
    "prop8[prop8['prop']=='B'] = len(prop8[prop8['prop']=='B'])/(len(dat8)*1.0)\n",
    "prop8[prop8['prop']=='A'] = len(prop8[prop8['prop']=='A'])/(len(dat8)*1.0)\n",
    "\n",
    "prop9 = pd.DataFrame(np.nan, index=range(0,0), columns=['prop'])\n",
    "prop9['prop'] = labels[len(dat8):len(dat8)+len(dat9)]\n",
    "prop9[prop9['prop']=='F'] = len(prop9[prop9['prop']=='F'])/(len(dat9)*1.0)\n",
    "prop9[prop9['prop']=='D'] = len(prop9[prop9['prop']=='D'])/(len(dat9)*1.0)\n",
    "prop9[prop9['prop']=='C'] = len(prop9[prop9['prop']=='C'])/(len(dat9)*1.0)\n",
    "prop9[prop9['prop']=='B'] = len(prop9[prop9['prop']=='B'])/(len(dat9)*1.0)\n",
    "prop9[prop9['prop']=='A'] = len(prop9[prop9['prop']=='A'])/(len(dat9)*1.0)"
   ]
  },
  {
   "cell_type": "code",
   "execution_count": 72,
   "metadata": {
    "collapsed": false
   },
   "outputs": [
    {
     "data": {
      "image/png": "[encoded data removed]",
      "text/plain": [
       "<matplotlib.figure.Figure at 0x123cec50>"
      ]
     },
     "metadata": {},
     "output_type": "display_data"
    }
   ],
   "source": [
    "FF = pd.concat([dat1['FF(100)'],dat2['FF(100)'],\n",
    "                dat3['FF(100)'],dat4['FF(100)'],dat5['FF(100)'],dat6['FF(100)'],\n",
    "                dat7['FF(100)'],dat8['FF(100)'],\n",
    "                dat9['FF(100)']])\n",
    "FF = FF/100\n",
    "\n",
    "prop = pd.DataFrame(np.nan, index=range(0,0), columns=['prop'])\n",
    "prop = pd.concat([prop1,prop2,prop3,prop4,prop5,prop6,prop7,prop8,prop9],axis=0)\n",
    "prop = prop.reset_index(drop=True)\n",
    "\n",
    "plt.hist(FF[labels=='A'],bins= 30, alpha=0.8, color ='green',label='A')\n",
    "plt.hist(FF[labels=='B'],bins= 30,alpha=0.7, color ='blue',label='B')\n",
    "plt.hist(FF[labels=='C'], bins= 30,alpha=0.7, color ='Cyan',label='C')\n",
    "plt.hist(FF[labels=='D'], bins= 30,alpha=0.7, color ='Red', label='D')\n",
    "\n",
    "plt.legend()\n",
    "plt.xlabel('Final Grade')\n",
    "\n",
    "plt.savefig('dist.png', bbox_inches='tight')\n",
    "plt.show()"
   ]
  },
  {
   "cell_type": "code",
   "execution_count": 81,
   "metadata": {
    "collapsed": false
   },
   "outputs": [
    {
     "name": "stdout",
     "output_type": "stream",
     "text": [
      "0.821848739496\n",
      "0.829145728643\n"
     ]
    }
   ],
   "source": [
    "from sklearn.naive_bayes import GaussianNB\n",
    "from sklearn import cross_validation\n",
    "from sklearn.metrics import accuracy_score\n",
    "from sklearn.ensemble import RandomForestClassifier\n",
    "\n",
    "\n",
    "ft2 = values['Mt']#.apply(mt.sqrt)\n",
    "ft3 = values['Fe']#*values['Fe']#.apply(mt.sqrt)\n",
    "f4 = ft2*ft3\n",
    "features = pd.concat([values['Aa'],\n",
    "                      ft2,ft3,f4,prop['prop']],axis=1)\n",
    "features_train,features_test,labels_train,labels_test = cross_validation.train_test_split(features,\n",
    "                                                                        labels,test_size=0.25,random_state=22)\n",
    "\n",
    "### When I consider prop as a feature, random forest prediction improves at least 8% which is big\n",
    "clf_RF = RandomForestClassifier(max_features=None,n_estimators=100,min_samples_split=2,random_state=225,oob_score=True)\n",
    "clf_RF.fit( features_train,labels_train )\n",
    "pred_RF = clf_RF.predict(features_test)\n",
    "\n",
    "print clf_RF.oob_score_\n",
    "print accuracy_score(labels_test,pred_RF)"
   ]
  },
  {
   "cell_type": "code",
   "execution_count": 87,
   "metadata": {
    "collapsed": false
   },
   "outputs": [
    {
     "name": "stdout",
     "output_type": "stream",
     "text": [
      "Confusion matrix, without normalization\n",
      "[[42  6  1  0  0]\n",
      " [ 8 62  0  0  0]\n",
      " [ 0  5 48  7  0]\n",
      " [ 0  0  5 10  1]\n",
      " [ 0  0  0  1  3]]\n"
     ]
    },
    {
     "data": {
      "image/png": "[encoded data removed]",
      "text/plain": [
       "<matplotlib.figure.Figure at 0xc0e90b8>"
      ]
     },
     "metadata": {},
     "output_type": "display_data"
    }
   ],
   "source": [
    "from sklearn.metrics import confusion_matrix\n",
    "\n",
    "def plot_confusion_matrix(cm, title='Confusion matrix', cmap=plt.cm.Blues):\n",
    "    plt.imshow(cm, interpolation='nearest', cmap=cmap)\n",
    "    plt.title(title)\n",
    "    plt.colorbar()\n",
    "    plt.tight_layout()\n",
    "    plt.ylabel('True label')\n",
    "    plt.xlabel('Predicted label')\n",
    "    \n",
    "cm = confusion_matrix(labels_test,pred_RF)\n",
    "np.set_printoptions(precision=2)\n",
    "print('Confusion matrix, without normalization')\n",
    "print(cm)\n",
    "plt.figure()\n",
    "plot_confusion_matrix(cm)"
   ]
  },
  {
   "cell_type": "code",
   "execution_count": 89,
   "metadata": {
    "collapsed": false
   },
   "outputs": [
    {
     "name": "stdout",
     "output_type": "stream",
     "text": [
      "Normalized confusion matrix\n",
      "[[ 0.86  0.12  0.02  0.    0.  ]\n",
      " [ 0.11  0.89  0.    0.    0.  ]\n",
      " [ 0.    0.08  0.8   0.12  0.  ]\n",
      " [ 0.    0.    0.31  0.62  0.06]\n",
      " [ 0.    0.    0.    0.25  0.75]]\n"
     ]
    },
    {
     "data": {
      "image/png": "[encoded data removed]",
      "text/plain": [
       "<matplotlib.figure.Figure at 0x121ed550>"
      ]
     },
     "metadata": {},
     "output_type": "display_data"
    }
   ],
   "source": [
    "cm_normalized = cm.astype('float') / cm.sum(axis=1)[:, np.newaxis]\n",
    "print('Normalized confusion matrix')\n",
    "print(cm_normalized)\n",
    "plt.figure()\n",
    "plot_confusion_matrix(cm_normalized, title='Normalized confusion matrix')\n",
    "plt.savefig('classification.png', bbox_inches='tight')\n",
    "plt.show()"
   ]
  },
  {
   "cell_type": "code",
   "execution_count": 84,
   "metadata": {
    "collapsed": false,
    "scrolled": true
   },
   "outputs": [
    {
     "name": "stdout",
     "output_type": "stream",
     "text": [
      "0.704201680672\n",
      "0.64824120603\n"
     ]
    }
   ],
   "source": [
    "clf = GaussianNB()\n",
    "clf.fit(features_train,labels_train)\n",
    "prediction = clf.predict(features_test)\n",
    "\n",
    "print accuracy_score(labels_train,clf.predict(features_train))\n",
    "print accuracy_score(labels_test,prediction)"
   ]
  },
  {
   "cell_type": "code",
   "execution_count": 9,
   "metadata": {
    "collapsed": false
   },
   "outputs": [
    {
     "name": "stdout",
     "output_type": "stream",
     "text": [
      "0.849246231156\n"
     ]
    }
   ],
   "source": [
    "from sklearn.ensemble import ExtraTreesClassifier\n",
    "clf_ET = ExtraTreesClassifier(max_features=None,n_estimators=100, min_samples_split=2,\n",
    "                              random_state=225)\n",
    "clf_ET.fit( features_train,labels_train )\n",
    "pred_ET = clf_ET.predict(features_test)\n",
    "\n",
    "print accuracy_score(labels_test,pred_ET)"
   ]
  },
  {
   "cell_type": "code",
   "execution_count": 23,
   "metadata": {
    "collapsed": false
   },
   "outputs": [
    {
     "name": "stdout",
     "output_type": "stream",
     "text": [
      "['D' 'C' 'C' 'B' 'B' 'A' 'A' 'A']\n",
      "['D' 'C' 'C' 'C' 'B' 'B' 'A' 'A']\n",
      "['B' 'B']\n",
      "['C' 'B']\n"
     ]
    }
   ],
   "source": [
    "a=np.arange(0.45,0.96,0.07)\n",
    "a[-1]\n",
    "\n",
    "vec = []\n",
    "for i in a:\n",
    "    vect = [i,i,i,i*i,0.3]\n",
    "    vec.append(vect)\n",
    "### ET result is more conservative which should be taken into account\n",
    "print clf_RF.predict(vec)\n",
    "print clf_ET.predict(vec) \n",
    "\n",
    "## Student should achieve at least 67% in every task to ensure the grade B\n",
    "print clf_RF.predict([[0.66,0.66,0.66,0.66*0.66,0.3],[0.67,0.67,0.67,0.67*0.67,0.3]])\n",
    "print clf_ET.predict([[0.66,0.66,0.66,0.66*0.66,0.3],[0.67,0.67,0.67,0.67*0.67,0.3]])"
   ]
  },
  {
   "cell_type": "code",
   "execution_count": 305,
   "metadata": {
    "collapsed": false
   },
   "outputs": [],
   "source": [
    "##Summer class prediction in the middle of the term\n",
    "data = pd.read_excel('marks (master).xlsx',skiprows=1)\n",
    "A1 = data['A1(40)']/(40.0)\n",
    "A1=A1.fillna(0)\n",
    "A2 = data['A2(75)']/(75.0)\n",
    "A2=A2.fillna(0)\n",
    "A3 = data['A3(70)']/(70.0)\n",
    "A3=A3.fillna(0)\n",
    "A4 = data['A4(80)']/(80.0)\n",
    "A4=A4.fillna(0)\n",
    "A5 = data['A5(90)']/(90.0)\n",
    "A5=A5.fillna(0)\n",
    "A6 = data['A6(75)']/(75.0)\n",
    "A6=A6.fillna(0)\n",
    "\n",
    "MT = pd.DataFrame(0, index=xrange(len(data)), columns=['MT'])\n",
    "MT['MT'] = data['MT(100)']/100.0\n",
    "                  \n",
    "AA = pd.DataFrame(0, index=xrange(len(data)), columns=['AA'])\n",
    "AA['AA'] = (A1+A2+A3+A4+A5+A6)/6.0\n",
    "\n",
    "prob = pd.DataFrame(0.3, index=xrange(len(data)), columns=['Pr'])"
   ]
  },
  {
   "cell_type": "code",
   "execution_count": 354,
   "metadata": {
    "collapsed": false
   },
   "outputs": [
    {
     "data": {
      "text/plain": [
       "Grade0     3.000000\n",
       "Grade1     3.000000\n",
       "Grade2     3.100000\n",
       "Grade3     3.100000\n",
       "Grade4     2.766667\n",
       "Grade5     2.833333\n",
       "Grade6     2.966667\n",
       "Grade7     3.066667\n",
       "Grade8     2.966667\n",
       "Grade9     2.833333\n",
       "Grade10    2.866667\n",
       "Grade11    3.066667\n",
       "Grade12    3.033333\n",
       "Grade13    2.933333\n",
       "Grade14    3.033333\n",
       "Grade15    2.966667\n",
       "Grade16    3.000000\n",
       "Grade17    2.933333\n",
       "Grade18    2.866667\n",
       "Grade19    2.766667\n",
       "Grade20    2.966667\n",
       "Grade21    3.033333\n",
       "Grade22    2.833333\n",
       "Grade23    3.066667\n",
       "Grade24    2.966667\n",
       "Grade25    3.033333\n",
       "Grade26    3.133333\n",
       "Grade27    2.800000\n",
       "Grade28    2.900000\n",
       "Grade29    2.833333\n",
       "             ...   \n",
       "Grade70    2.800000\n",
       "Grade71    2.966667\n",
       "Grade72    3.033333\n",
       "Grade73    2.766667\n",
       "Grade74    2.966667\n",
       "Grade75    3.233333\n",
       "Grade76    2.866667\n",
       "Grade77    3.166667\n",
       "Grade78    3.033333\n",
       "Grade79    3.000000\n",
       "Grade80    2.833333\n",
       "Grade81    2.833333\n",
       "Grade82    3.000000\n",
       "Grade83    3.033333\n",
       "Grade84    3.000000\n",
       "Grade85    2.933333\n",
       "Grade86    2.933333\n",
       "Grade87    3.000000\n",
       "Grade88    2.866667\n",
       "Grade89    3.000000\n",
       "Grade90    3.100000\n",
       "Grade91    2.800000\n",
       "Grade92    3.000000\n",
       "Grade93    2.733333\n",
       "Grade94    2.900000\n",
       "Grade95    3.033333\n",
       "Grade96    2.766667\n",
       "Grade97    2.933333\n",
       "Grade98    2.900000\n",
       "Grade99    2.900000\n",
       "dtype: float64"
      ]
     },
     "execution_count": 354,
     "metadata": {},
     "output_type": "execute_result"
    }
   ],
   "source": [
    "prG = pd.DataFrame(0,index=range(len(data)),columns=['NAN'])\n",
    "for iter in range(100):\n",
    "    fin = []\n",
    "    for (irow,val) in enumerate(MT['MT']):\n",
    "        score = pd.DataFrame(np.random.normal(val+0.1, 0.2,1), index=range(1), columns=['Fe'])\n",
    "        score['Fe'][score['Fe']>1]=1\n",
    "        score['Fe'][score['Fe']<0]=0\n",
    "        fin.append([AA['AA'][irow],val,score['Fe'][0],val*score['Fe'][0],0.3])\n",
    "    pred=pd.DataFrame(clf_ET.predict(fin),index=range(len(data)),columns=['Grade'+str(iter)])\n",
    "    prG = pd.concat([prG,pred],axis=1)\n",
    "prG = prG.drop('NAN',axis=1)\n",
    "\n",
    "GradePoint = prG\n",
    "GradePoint[prG=='A'] = 4.0\n",
    "GradePoint[(prG=='B')] = 3.0\n",
    "GradePoint[(prG=='C')] = 2.0\n",
    "GradePoint[(prG=='D')] = 1.0\n",
    "GradePoint[(prG=='F')] = 0.0\n",
    "##GradePoint.apply(np.mean)"
   ]
  },
  {
   "cell_type": "code",
   "execution_count": 200,
   "metadata": {
    "collapsed": false
   },
   "outputs": [
    {
     "data": {
      "text/html": [
       "<div>\n",
       "<table border=\"1\" class=\"dataframe\">\n",
       "  <thead>\n",
       "    <tr style=\"text-align: right;\">\n",
       "      <th></th>\n",
       "      <th>Grades_P</th>\n",
       "    </tr>\n",
       "  </thead>\n",
       "  <tbody>\n",
       "    <tr>\n",
       "      <th>0</th>\n",
       "      <td>A</td>\n",
       "    </tr>\n",
       "    <tr>\n",
       "      <th>1</th>\n",
       "      <td>B</td>\n",
       "    </tr>\n",
       "    <tr>\n",
       "      <th>2</th>\n",
       "      <td>B</td>\n",
       "    </tr>\n",
       "    <tr>\n",
       "      <th>3</th>\n",
       "      <td>C</td>\n",
       "    </tr>\n",
       "    <tr>\n",
       "      <th>4</th>\n",
       "      <td>C</td>\n",
       "    </tr>\n",
       "  </tbody>\n",
       "</table>\n",
       "</div>"
      ],
      "text/plain": [
       "  Grades_P\n",
       "0        A\n",
       "1        B\n",
       "2        B\n",
       "3        C\n",
       "4        C"
      ]
     },
     "execution_count": 200,
     "metadata": {},
     "output_type": "execute_result"
    }
   ],
   "source": [
    "## based on sampling\n",
    "Final = pd.DataFrame(final, index=range(len(data)), columns=['Final'])\n",
    "\n",
    "prediction=clf_ET.predict(pd.concat([AA['AA'],MT['MT'],Final['Final'],\n",
    "                                     MT['MT']*Final['Final'],prob['Pr']],axis=1))\n",
    "prs = pd.DataFrame(prediction,index=xrange(len(prediction)),columns=['Grades_P'])\n",
    "prs.describe()\n",
    "prs.to_clipboard()\n",
    "prs.head()"
   ]
  },
  {
   "cell_type": "code",
   "execution_count": 98,
   "metadata": {
    "collapsed": false
   },
   "outputs": [
    {
     "data": {
      "text/html": [
       "<div>\n",
       "<table border=\"1\" class=\"dataframe\">\n",
       "  <thead>\n",
       "    <tr style=\"text-align: right;\">\n",
       "      <th></th>\n",
       "      <th>Grades_P</th>\n",
       "    </tr>\n",
       "  </thead>\n",
       "  <tbody>\n",
       "    <tr>\n",
       "      <th>0</th>\n",
       "      <td>A</td>\n",
       "    </tr>\n",
       "    <tr>\n",
       "      <th>1</th>\n",
       "      <td>C</td>\n",
       "    </tr>\n",
       "    <tr>\n",
       "      <th>2</th>\n",
       "      <td>C</td>\n",
       "    </tr>\n",
       "    <tr>\n",
       "      <th>3</th>\n",
       "      <td>C</td>\n",
       "    </tr>\n",
       "    <tr>\n",
       "      <th>4</th>\n",
       "      <td>D</td>\n",
       "    </tr>\n",
       "  </tbody>\n",
       "</table>\n",
       "</div>"
      ],
      "text/plain": [
       "  Grades_P\n",
       "0        A\n",
       "1        C\n",
       "2        C\n",
       "3        C\n",
       "4        D"
      ]
     },
     "execution_count": 98,
     "metadata": {},
     "output_type": "execute_result"
    }
   ],
   "source": [
    "### on average the students who take this course acheive 10% more in the final exam\n",
    "### The standard deviation is 20%\n",
    "## pessimistic -> 0.1-0.2=-0.1\n",
    "prediction=clf_ET.predict(pd.concat([AA['AA'],MT['MT'],MT['MT']-0.1,\n",
    "                                     MT['MT']*(MT['MT']-0.1),prob['Pr']],axis=1))\n",
    "prs = pd.DataFrame(prediction,index=xrange(len(prediction)),columns=['Grades_P'])\n",
    "prs.describe()\n",
    "prs.to_clipboard()\n",
    "prs.head()"
   ]
  },
  {
   "cell_type": "code",
   "execution_count": 104,
   "metadata": {
    "collapsed": false
   },
   "outputs": [
    {
     "data": {
      "text/plain": [
       "2.6333333333333333"
      ]
     },
     "execution_count": 104,
     "metadata": {},
     "output_type": "execute_result"
    }
   ],
   "source": [
    "GradePoint = pd.DataFrame(0.0, index=xrange(len(data)), columns=['GradePoints'])\n",
    "GradePoint[prs['Grades_P']=='A'] = 4.0\n",
    "GradePoint[(prs['Grades_P']=='B')] = 3.0\n",
    "GradePoint[(prs['Grades_P']=='C')] = 2.0\n",
    "GradePoint[(prs['Grades_P']=='D')] = 1.0\n",
    "GradePoint[(prs['Grades_P']=='F')] = 0.0\n",
    "sum(GradePoint['GradePoints'])/(len(data)*1.0)"
   ]
  },
  {
   "cell_type": "code",
   "execution_count": 105,
   "metadata": {
    "collapsed": false
   },
   "outputs": [
    {
     "data": {
      "text/plain": [
       "3.2333333333333334"
      ]
     },
     "execution_count": 105,
     "metadata": {},
     "output_type": "execute_result"
    }
   ],
   "source": [
    "### 0.1+0.2=0.3\n",
    "prediction=clf_ET.predict(pd.concat([AA['AA'],MT['MT'],MT['MT']+0.3,MT['MT']*(MT['MT']+0.3)\n",
    "                           ,prob['Pr']],axis=1))\n",
    "prs = pd.DataFrame(prediction,index=xrange(len(prediction)),columns=['Grades_O'])\n",
    "prs.describe()\n",
    "prs.to_clipboard()\n",
    "\n",
    "GradePoint[prs['Grades_O']=='A'] = 4.0\n",
    "GradePoint[(prs['Grades_O']=='B')] = 3.0\n",
    "GradePoint[(prs['Grades_O']=='C')] = 2.0\n",
    "GradePoint[(prs['Grades_O']=='D')] = 1.0\n",
    "GradePoint[(prs['Grades_O']=='F')] = 0.0\n",
    "sum(GradePoint['GradePoints'])/(len(data)*1.0)"
   ]
  },
  {
   "cell_type": "code",
   "execution_count": 106,
   "metadata": {
    "collapsed": false
   },
   "outputs": [
    {
     "data": {
      "text/plain": [
       "3.1333333333333333"
      ]
     },
     "execution_count": 106,
     "metadata": {},
     "output_type": "execute_result"
    }
   ],
   "source": [
    "### the expected performance in the end of the term\n",
    "prediction=clf_ET.predict(pd.concat([AA['AA'],MT['MT'],MT['MT']+0.1,MT['MT']*(MT['MT']+0.1)\n",
    "                           ,prob['Pr']],axis=1))\n",
    "prs = pd.DataFrame(prediction,index=xrange(len(prediction)),columns=['Grades'])\n",
    "prs.describe()\n",
    "prs.to_clipboard()\n",
    "\n",
    "GradePoint[prs['Grades']=='A'] = 4.0\n",
    "GradePoint[(prs['Grades']=='B')] = 3.0\n",
    "GradePoint[(prs['Grades']=='C')] = 2.0\n",
    "GradePoint[(prs['Grades']=='D')] = 1.0\n",
    "GradePoint[(prs['Grades']=='F')] = 0.0\n",
    "sum(GradePoint['GradePoints'])/(len(data)*1.0)"
   ]
  },
  {
   "cell_type": "code",
   "execution_count": null,
   "metadata": {
    "collapsed": true
   },
   "outputs": [],
   "source": []
  }
 ],
 "metadata": {
  "kernelspec": {
   "display_name": "Python 2",
   "language": "python",
   "name": "python2"
  },
  "language_info": {
   "codemirror_mode": {
    "name": "ipython",
    "version": 2
   },
   "file_extension": ".py",
   "mimetype": "text/x-python",
   "name": "python",
   "nbconvert_exporter": "python",
   "pygments_lexer": "ipython2",
   "version": "2.7.11"
  }
 },
 "nbformat": 4,
 "nbformat_minor": 0
}
